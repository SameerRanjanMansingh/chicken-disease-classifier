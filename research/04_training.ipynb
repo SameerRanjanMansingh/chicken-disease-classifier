{
 "cells": [
  {
   "cell_type": "code",
   "execution_count": 1,
   "metadata": {},
   "outputs": [],
   "source": [
    "import os"
   ]
  },
  {
   "cell_type": "code",
   "execution_count": 2,
   "metadata": {},
   "outputs": [
    {
     "data": {
      "text/plain": [
       "'c:\\\\workFiles\\\\DS\\\\cookie-cutter\\\\chicken-disease-classifier\\\\research'"
      ]
     },
     "execution_count": 2,
     "metadata": {},
     "output_type": "execute_result"
    }
   ],
   "source": [
    "%pwd"
   ]
  },
  {
   "cell_type": "code",
   "execution_count": 3,
   "metadata": {},
   "outputs": [],
   "source": [
    "os.chdir(\"../\")"
   ]
  },
  {
   "cell_type": "code",
   "execution_count": 4,
   "metadata": {},
   "outputs": [
    {
     "data": {
      "text/plain": [
       "'c:\\\\workFiles\\\\DS\\\\cookie-cutter\\\\chicken-disease-classifier'"
      ]
     },
     "execution_count": 4,
     "metadata": {},
     "output_type": "execute_result"
    }
   ],
   "source": [
    "%pwd"
   ]
  },
  {
   "cell_type": "code",
   "execution_count": 5,
   "metadata": {},
   "outputs": [],
   "source": [
    "from dataclasses import dataclass\n",
    "from pathlib import Path\n",
    "\n",
    "\n",
    "@dataclass(frozen=True)\n",
    "class TrainingConfig:\n",
    "    root_dir: Path\n",
    "    trained_model_path: Path\n",
    "    updated_base_model_path: Path\n",
    "    training_data: Path\n",
    "    params_epochs: int\n",
    "    params_batch_size: int\n",
    "    params_is_augmentation: bool\n",
    "    params_image_size: list\n",
    "\n",
    "@dataclass(frozen=True)\n",
    "class PrepareCallbacksConfig:\n",
    "    root_dir: Path\n",
    "    tensorboard_root_log_dir: Path\n",
    "    checkpoint_model_filepath: Path"
   ]
  },
  {
   "cell_type": "code",
   "execution_count": 6,
   "metadata": {},
   "outputs": [],
   "source": [
    "from src.cnnClassifier.constants import *\n",
    "from src.cnnClassifier.utils.common import read_yaml, create_directories\n",
    "import tensorflow as tf"
   ]
  },
  {
   "cell_type": "code",
   "execution_count": 7,
   "metadata": {},
   "outputs": [],
   "source": [
    "class ConfigurationManager:\n",
    "    def __init__(\n",
    "            self,\n",
    "            config_filepath = CONFIG_FILE_PATH,\n",
    "            params_filepath = PARAMS_FILE_PATH):\n",
    "        self.config = read_yaml(config_filepath)\n",
    "        self.params = read_yaml(params_filepath)\n",
    "        create_directories([self.config.artifacts_root])\n",
    "\n",
    "\n",
    "    def get_prepare_callback_config(self) -> PrepareCallbacksConfig:\n",
    "        config = self.config.prepare_callbacks\n",
    "        model_ckpt_dir = os.path.dirname(config.checkpoint_model_filepath)\n",
    "        \n",
    "        create_directories([\n",
    "            Path(model_ckpt_dir),\n",
    "            Path(config.tensorboard_root_log_dir)\n",
    "            ])\n",
    "\n",
    "        prepare_callback_config = PrepareCallbacksConfig(\n",
    "            root_dir=Path(config.root_dir),\n",
    "            tensorboard_root_log_dir=Path(config.tensorboard_root_log_dir),\n",
    "            checkpoint_model_filepath=Path(config.checkpoint_model_filepath)\n",
    "        )\n",
    "\n",
    "        return prepare_callback_config\n",
    "        \n",
    "\n",
    "\n",
    "    def get_training_config(self) -> TrainingConfig:\n",
    "        training = self.config.training\n",
    "        prepare_base_model = self.config.prepare_base_model\n",
    "        params = self.params\n",
    "        training_data = os.path.join(self.config.data_ingestion.unzip_dir, \"Chicken-fecal-images\")\n",
    "\n",
    "        create_directories([\n",
    "            Path(training.root_dir)\n",
    "        ])\n",
    "\n",
    "        training_config = TrainingConfig(\n",
    "            root_dir=Path(training.root_dir),\n",
    "            trained_model_path=Path(training.trained_model_path),\n",
    "            updated_base_model_path=Path(prepare_base_model.updated_base_model_path),\n",
    "            training_data=Path(training_data),\n",
    "            params_epochs=params.EPOCHS,\n",
    "            params_batch_size=params.BATCH_SIZE,\n",
    "            params_is_augmentation=params.AUGMENTATION,\n",
    "            params_image_size=params.IMAGE_SIZE\n",
    "        )\n",
    "\n",
    "        return training_config"
   ]
  },
  {
   "cell_type": "code",
   "execution_count": 8,
   "metadata": {},
   "outputs": [],
   "source": [
    "import time"
   ]
  },
  {
   "cell_type": "code",
   "execution_count": 9,
   "metadata": {},
   "outputs": [],
   "source": [
    "class PrepareCallback:\n",
    "    def __init__(self, config: PrepareCallbacksConfig):\n",
    "        self.config = config\n",
    "\n",
    "\n",
    "    @property\n",
    "    def _create_tb_callbacks(self):\n",
    "        timestamp = time.strftime(\"%Y-%m-%d-%H-%M-%S\")\n",
    "        tb_running_log_dir = os.path.join(\n",
    "            self.config.tensorboard_root_log_dir,\n",
    "            f\"tb_logs_at_{timestamp}\"\n",
    "        )\n",
    "        return tf.keras.callbacks.TensorBoard(log_dir=tb_running_log_dir)\n",
    "    \n",
    "\n",
    "    @property\n",
    "    def _create_ckpt_callbacks(self):\n",
    "        return tf.keras.callbacks.ModelCheckpoint(\n",
    "            filepath=self.config.checkpoint_model_filepath,\n",
    "            save_best_only=True\n",
    "        )\n",
    "    \n",
    "\n",
    "    def get_tb_ckpt_callbacks(self):\n",
    "        return [\n",
    "            self._create_tb_callbacks,\n",
    "            self._create_ckpt_callbacks\n",
    "        ]"
   ]
  },
  {
   "cell_type": "code",
   "execution_count": 10,
   "metadata": {},
   "outputs": [],
   "source": [
    "import os\n",
    "import urllib.request as request\n",
    "import zipfile\n",
    "import tensorflow as tf\n",
    "import time\n",
    "from PIL import Image\n"
   ]
  },
  {
   "cell_type": "code",
   "execution_count": 16,
   "metadata": {},
   "outputs": [
    {
     "name": "stdout",
     "output_type": "stream",
     "text": [
      "Collecting Pillow\n",
      "  Downloading pillow-10.2.0-cp38-cp38-win_amd64.whl.metadata (9.9 kB)\n",
      "Downloading pillow-10.2.0-cp38-cp38-win_amd64.whl (2.6 MB)\n",
      "   ---------------------------------------- 0.0/2.6 MB ? eta -:--:--\n",
      "   ---------------------------------------- 0.0/2.6 MB ? eta -:--:--\n",
      "   ---------------------------------------- 0.0/2.6 MB ? eta -:--:--\n",
      "   ---------------------------------------- 0.0/2.6 MB ? eta -:--:--\n",
      "   - -------------------------------------- 0.1/2.6 MB 403.5 kB/s eta 0:00:07\n",
      "   - -------------------------------------- 0.1/2.6 MB 403.5 kB/s eta 0:00:07\n",
      "   - -------------------------------------- 0.1/2.6 MB 403.5 kB/s eta 0:00:07\n",
      "   - -------------------------------------- 0.1/2.6 MB 403.5 kB/s eta 0:00:07\n",
      "   -- ------------------------------------- 0.2/2.6 MB 491.5 kB/s eta 0:00:05\n",
      "   --- ------------------------------------ 0.2/2.6 MB 461.0 kB/s eta 0:00:06\n",
      "   --- ------------------------------------ 0.2/2.6 MB 461.0 kB/s eta 0:00:06\n",
      "   --- ------------------------------------ 0.2/2.6 MB 461.0 kB/s eta 0:00:06\n",
      "   --- ------------------------------------ 0.3/2.6 MB 413.7 kB/s eta 0:00:06\n",
      "   ----- ---------------------------------- 0.3/2.6 MB 537.2 kB/s eta 0:00:05\n",
      "   ----- ---------------------------------- 0.3/2.6 MB 537.2 kB/s eta 0:00:05\n",
      "   ----- ---------------------------------- 0.4/2.6 MB 515.5 kB/s eta 0:00:05\n",
      "   ------- -------------------------------- 0.5/2.6 MB 576.9 kB/s eta 0:00:04\n",
      "   -------- ------------------------------- 0.5/2.6 MB 630.7 kB/s eta 0:00:04\n",
      "   --------- ------------------------------ 0.6/2.6 MB 655.1 kB/s eta 0:00:04\n",
      "   --------- ------------------------------ 0.6/2.6 MB 676.8 kB/s eta 0:00:03\n",
      "   ----------- ---------------------------- 0.7/2.6 MB 738.1 kB/s eta 0:00:03\n",
      "   ------------ --------------------------- 0.8/2.6 MB 786.1 kB/s eta 0:00:03\n",
      "   ------------- -------------------------- 0.9/2.6 MB 786.3 kB/s eta 0:00:03\n",
      "   -------------- ------------------------- 1.0/2.6 MB 837.4 kB/s eta 0:00:02\n",
      "   --------------- ------------------------ 1.0/2.6 MB 844.7 kB/s eta 0:00:02\n",
      "   ---------------- ----------------------- 1.1/2.6 MB 873.6 kB/s eta 0:00:02\n",
      "   ----------------- ---------------------- 1.2/2.6 MB 905.9 kB/s eta 0:00:02\n",
      "   ------------------ --------------------- 1.2/2.6 MB 928.1 kB/s eta 0:00:02\n",
      "   -------------------- ------------------- 1.3/2.6 MB 963.8 kB/s eta 0:00:02\n",
      "   --------------------- ------------------ 1.4/2.6 MB 983.2 kB/s eta 0:00:02\n",
      "   ---------------------- ----------------- 1.5/2.6 MB 1.0 MB/s eta 0:00:02\n",
      "   ----------------------- ---------------- 1.5/2.6 MB 1.0 MB/s eta 0:00:02\n",
      "   ------------------------ --------------- 1.6/2.6 MB 1.1 MB/s eta 0:00:01\n",
      "   ------------------------- -------------- 1.7/2.6 MB 1.1 MB/s eta 0:00:01\n",
      "   --------------------------- ------------ 1.8/2.6 MB 1.1 MB/s eta 0:00:01\n",
      "   ----------------------------- ---------- 1.9/2.6 MB 1.1 MB/s eta 0:00:01\n",
      "   ----------------------------- ---------- 2.0/2.6 MB 1.1 MB/s eta 0:00:01\n",
      "   -------------------------------- ------- 2.2/2.6 MB 1.2 MB/s eta 0:00:01\n",
      "   ---------------------------------- ----- 2.2/2.6 MB 1.2 MB/s eta 0:00:01\n",
      "   ------------------------------------ --- 2.4/2.6 MB 1.3 MB/s eta 0:00:01\n",
      "   ------------------------------------- -- 2.5/2.6 MB 1.3 MB/s eta 0:00:01\n",
      "   -------------------------------------- - 2.5/2.6 MB 1.3 MB/s eta 0:00:01\n",
      "   ---------------------------------------  2.6/2.6 MB 1.3 MB/s eta 0:00:01\n",
      "   ---------------------------------------- 2.6/2.6 MB 1.3 MB/s eta 0:00:00\n",
      "Installing collected packages: Pillow\n",
      "Successfully installed Pillow-10.2.0\n"
     ]
    }
   ],
   "source": [
    "%pip install Pillow"
   ]
  },
  {
   "cell_type": "code",
   "execution_count": 11,
   "metadata": {},
   "outputs": [],
   "source": [
    "class Training:\n",
    "    def __init__(self,config: TrainingConfig):\n",
    "        self.config = config\n",
    "\n",
    "    def get_base_model(self):\n",
    "        self.model = tf.keras.models.load_model(\n",
    "            self.config.updated_base_model_path\n",
    "        )\n",
    "\n",
    "    def train_valid_generator(self):\n",
    "\n",
    "        datagenerator_kwargs = dict(\n",
    "            rescale = 1./255,\n",
    "            validation_split=0.20\n",
    "        )\n",
    "\n",
    "        dataflow_kwargs = dict(\n",
    "            target_size=self.config.params_image_size[:-1],\n",
    "            batch_size=self.config.params_batch_size,\n",
    "            interpolation=\"bilinear\"\n",
    "        )\n",
    "\n",
    "        valid_datagenerator = tf.keras.preprocessing.image.ImageDataGenerator(\n",
    "            **datagenerator_kwargs\n",
    "        )\n",
    "\n",
    "        self.valid_generator = valid_datagenerator.flow_from_directory(\n",
    "            directory=self.config.training_data,\n",
    "            subset=\"validation\",\n",
    "            shuffle=False,\n",
    "            **dataflow_kwargs\n",
    "        )\n",
    "\n",
    "        if self.config.params_is_augmentation:\n",
    "            train_datagenerator = tf.keras.preprocessing.image.ImageDataGenerator(\n",
    "                rotation_range=40,\n",
    "                horizontal_flip=True,\n",
    "                width_shift_range=0.2,\n",
    "                height_shift_range=0.2,\n",
    "                shear_range=0.2,\n",
    "                zoom_range=0.2,\n",
    "                **datagenerator_kwargs\n",
    "            )\n",
    "        else:\n",
    "            train_datagenerator = valid_datagenerator\n",
    "\n",
    "        self.train_generator = train_datagenerator.flow_from_directory(\n",
    "            directory=self.config.training_data,\n",
    "            subset=\"training\",\n",
    "            shuffle=True,\n",
    "            **dataflow_kwargs\n",
    "        )\n",
    "\n",
    "    @staticmethod\n",
    "    def save_model(path: Path, model: tf.keras.Model):\n",
    "        model.save(path)\n",
    "\n",
    "    def train(self, callback_list: list):\n",
    "        self.steps_per_epoch = self.train_generator.samples // self.train_generator.batch_size\n",
    "        self.validation_steps = self.valid_generator.samples // self.valid_generator.batch_size\n",
    "\n",
    "        self.model.fit(\n",
    "            self.train_generator,\n",
    "            epochs=self.config.params_epochs,\n",
    "            steps_per_epoch=self.steps_per_epoch,\n",
    "            validation_steps=self.validation_steps,\n",
    "            validation_data=self.valid_generator,\n",
    "            callbacks=callback_list\n",
    "        )\n",
    "\n",
    "        self.save_model(\n",
    "            path=self.config.trained_model_path,\n",
    "            model= self.model\n",
    "        )"
   ]
  },
  {
   "cell_type": "code",
   "execution_count": 14,
   "metadata": {},
   "outputs": [],
   "source": [
    "# try:\n",
    "#     config = ConfigurationManager()\n",
    "#     prepare_callbacks_config = config.get_prepare_callback_config()\n",
    "#     prepare_callbacks = PrepareCallback(config=prepare_callbacks_config)\n",
    "#     callback_list = prepare_callbacks.get_tb_ckpt_callbacks()\n",
    "\n",
    "#     training_config = config.config.training\n",
    "#     training = Training(config=training_config)\n",
    "#     training.get_base_model()\n",
    "#     training.train_with_validation()  # Replace with the correct method name\n",
    "#     training.train(callback_list=callback_list)\n",
    "\n",
    "# except Exception as e:\n",
    "#     raise e\n"
   ]
  },
  {
   "cell_type": "code",
   "execution_count": 12,
   "metadata": {},
   "outputs": [
    {
     "name": "stdout",
     "output_type": "stream",
     "text": [
      "[2024-01-30 23:37:40,715: INFO: common: yaml file: config\\config.yaml loaded successfully]\n",
      "[2024-01-30 23:37:40,719: INFO: common: yaml file: params.yaml loaded successfully]\n",
      "[2024-01-30 23:37:40,722: INFO: common: created directory at: artifacts]\n",
      "[2024-01-30 23:37:40,724: INFO: common: created directory at: artifacts\\prepare_callbacks\\ckeckpoint_dir]\n",
      "[2024-01-30 23:37:40,725: INFO: common: created directory at: artifacts\\prepare_callbacks\\tensorboard_log_dir]\n",
      "[2024-01-30 23:37:40,727: INFO: common: created directory at: artifacts\\training]\n",
      "Found 78 images belonging to 2 classes.\n",
      "Found 312 images belonging to 2 classes.\n",
      "19/19 [==============================] - 38s 2s/step - loss: 10.7384 - accuracy: 0.5724 - val_loss: 4.1786 - val_accuracy: 0.6094\n"
     ]
    }
   ],
   "source": [
    "try:\n",
    "    config = ConfigurationManager()\n",
    "    prepare_callbacks_config = config.get_prepare_callback_config()\n",
    "    prepare_callbacks = PrepareCallback(config=prepare_callbacks_config)\n",
    "    callback_list = prepare_callbacks.get_tb_ckpt_callbacks()\n",
    "\n",
    "    training_config = config.get_training_config()\n",
    "    training = Training(config=training_config)\n",
    "    training.get_base_model()\n",
    "    training.train_valid_generator()\n",
    "    training.train(\n",
    "        callback_list=callback_list\n",
    "    )\n",
    "\n",
    "except Exception as e:\n",
    "    raise e"
   ]
  },
  {
   "cell_type": "code",
   "execution_count": null,
   "metadata": {},
   "outputs": [],
   "source": []
  }
 ],
 "metadata": {
  "kernelspec": {
   "display_name": "chicken",
   "language": "python",
   "name": "python3"
  },
  "language_info": {
   "codemirror_mode": {
    "name": "ipython",
    "version": 3
   },
   "file_extension": ".py",
   "mimetype": "text/x-python",
   "name": "python",
   "nbconvert_exporter": "python",
   "pygments_lexer": "ipython3",
   "version": "3.8.15"
  }
 },
 "nbformat": 4,
 "nbformat_minor": 2
}
